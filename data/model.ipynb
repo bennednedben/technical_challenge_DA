{
 "cells": [
  {
   "cell_type": "markdown",
   "id": "a16cd1a5",
   "metadata": {},
   "source": [
    "Tech challenge\n",
    "\n",
    "drawing\n",
    "\n",
    "\n",
    "Cobify is a company dedicated to people transport just like Uber, Lyft or even Cabify (who clearly stole our name).\n",
    "\n",
    "Cobify was founded in 1992 coinciding with the Olympic Games hosted in Barcelona. Our company has always been known by:\n",
    "\n",
    "Not having permits to drive people (we do know how to drive)\n",
    "Using tricked-out high-end car\n",
    "In our home town, Barcelona, VTC licenses have appeared and we have been able to start being a legal company, because we do have licenses now. However, we still keep using tricked-out high-end cars.\n",
    "\n",
    "We are an old school company and data analysis falls far beyond our reach, and as we do not want to be on the news we want to know how you can help our business.\n",
    "\n",
    "A bit of history of the gas problem ⛽️\n",
    "Tricked-out cars use gas with a high cetane index, like unleaded 98 petrol in order to avoid delay/advancing in combustible injection (avoiding connecting rod pitting ), but we have started to embrace petrols that add ethanol in their formula, as they are cheaper and they use the same cetane index as more expensive petrol. Without going into further detail (we could write an actual book about this) we think that going green and being modern can be very expensive, as we have seen that cars use more petrol than they used to for each trip.\n",
    "\n",
    "Your challenge starts here 📈\n",
    "Now it is your turn: can you help us find the best combustible? We have saved some consumption data in a .csv, but… it would be very nice if you could add some more data. You can find data in the repo :-)\n",
    "\n",
    "Show us your abilities and make yourself worth the amount of money you'd like to get paid. You have 3 hours to turn the challenge in starting right now! 💸\n",
    "\n",
    "What to do?\n",
    "You should aim for:\n",
    "Exploratory data analysis\n",
    "Get to know the domain\n",
    "Explore your data\n",
    "Clean your data\n",
    "Take a look and find connections between data\n",
    "Note: Above you have your data set in a folder but for further reference here is the data set source: https://www.kaggle.com/datasets/anderas/car-consume\n",
    "\n",
    "Visualization\n",
    "Plot your data in a meaningful way\n",
    "Predictions\n",
    "Do you have any hypothesis?\n",
    "Can you make any kind of prediction: regression and/or classification?\n",
    "Storytelling\n",
    "What metrics are you obtaining?\n",
    "Explain your conclusions\n",
    "Shape your new data and conclusions in such a way that is appealing to the listener and tells a story\n",
    "Extra:\n",
    "Enrich your dataset\n",
    "Add value: obtain related data by web scraping or with APIs.\n",
    "Database\n",
    "Load the processed information into a database\n",
    "\n",
    "Submission\n",
    "To deliver your proposal make a fork of the repo and when you are done make a pull request. 🤯\n",
    "\n",
    "How to do a pull request\n",
    "Do not forget to add any PDF document, slides or anything you can think of.\n",
    "\n",
    "You can grab ideas from our instructors or create something with streamlit 🚀\n",
    "\n",
    "Go bezerk if you want to get this job, you will set the limits!\n",
    "\n",
    "PD: even though this has an informal tone, this challenge is serious and very similar to those you will encounter in real life.\n",
    "\n",
    "-------------------------------------------------------------------------------------------------------------\n",
    "\n",
    "Tech-Herausforderung\n",
    "Zeichnung\n",
    "\n",
    "Cobify ist ein Unternehmen, das sich dem Personentransport verschrieben hat, genau wie Uber, Lyft oder sogar Cabify (die eindeutig unseren Namen gestohlen haben).\n",
    "\n",
    "Cobify wurde 1992 zeitgleich mit den Olympischen Spielen in Barcelona gegründet. Unser Unternehmen war schon immer bekannt durch:\n",
    "\n",
    "Keine Genehmigung zum Fahren von Personen (wir wissen, wie man fährt)\n",
    "Mit ausgetricksten High-End-Autos\n",
    "In unserer Heimatstadt Barcelona sind VTC-Lizenzen erschienen und wir konnten anfangen, ein legales Unternehmen zu werden, weil wir jetzt Lizenzen haben. Wir verwenden jedoch immer noch ausgetrickste High-End-Autos.\n",
    "\n",
    "Wir sind ein Unternehmen der alten Schule und die Datenanalyse fällt weit außerhalb unserer Reichweite, und da wir nicht in den Nachrichten erscheinen möchten, möchten wir wissen, wie Sie unserem Geschäft helfen können.\n",
    "\n",
    "Ein bisschen Geschichte des Gasproblems ⛽️\n",
    "Ausgetrickste Autos verwenden Benzin mit einem hohen Cetanindex, wie bleifreies 98-Benzin, um eine Verzögerung/Vorverlegung der Kraftstoffeinspritzung zu vermeiden (Vermeidung von Pleuelfraß), aber wir haben begonnen, Benzine zu akzeptieren, die ihrer Formel Ethanol hinzufügen, so wie sie sind billiger und haben den gleichen Cetanzahlwert wie teureres Benzin. Ohne weiter ins Detail zu gehen (wir könnten ein ganzes Buch darüber schreiben), denken wir, dass es sehr teuer sein kann, umweltbewusst und modern zu sein, da wir gesehen haben, dass Autos für jede Fahrt mehr Benzin verbrauchen als früher.\n",
    "\n",
    "Deine Herausforderung beginnt hier 📈\n",
    "Jetzt sind Sie an der Reihe: Können Sie uns helfen, den besten Brennstoff zu finden? Wir haben einige Verbrauchsdaten in einer .csv-Datei gespeichert, aber… es wäre sehr nett, wenn Sie weitere Daten hinzufügen könnten. Daten findest du im Repo :-)\n",
    "\n",
    "Zeigen Sie uns Ihre Fähigkeiten und machen Sie sich den Geldbetrag wert, den Sie bezahlt bekommen möchten. Sie haben 3 Stunden Zeit, um die Herausforderung sofort zu starten! 💸\n",
    "\n",
    "Was zu tun ist?\n",
    "Sie sollten anstreben:\n",
    "Explorative Datenanalyse\n",
    "Lernen Sie die Domäne kennen\n",
    "Erkunden Sie Ihre Daten\n",
    "Bereinigen Sie Ihre Daten\n",
    "Schauen Sie hin und finden Sie Verbindungen zwischen Daten\n",
    "Hinweis: Oben haben Sie Ihren Datensatz in einem Ordner, aber zur weiteren Bezugnahme finden Sie hier die Datensatzquelle: https://www.kaggle.com/datasets/anderas/car-consume\n",
    "\n",
    "Visualisierung\n",
    "Stellen Sie Ihre Daten sinnvoll dar\n",
    "Vorhersagen\n",
    "Haben Sie eine Hypothese?\n",
    "Können Sie irgendeine Art von Vorhersage treffen: Regression und/oder Klassifizierung?\n",
    "Geschichtenerzählen\n",
    "Welche Metriken erhalten Sie?\n",
    "Erklären Sie Ihre Schlussfolgerungen\n",
    "Gestalten Sie Ihre neuen Daten und Schlussfolgerungen so, dass sie den Zuhörer ansprechen und eine Geschichte erzählen\n",
    "Extra:\n",
    "Bereichern Sie Ihren Datensatz\n",
    "Mehrwert: Erhalten Sie zugehörige Daten per Web Scraping oder mit APIs.\n",
    "Datenbank\n",
    "Laden Sie die verarbeiteten Informationen in eine Datenbank\n",
    "\n",
    "Vorlage\n",
    "Um Ihren Vorschlag zu liefern, erstellen Sie einen Fork des Repos und wenn Sie fertig sind, stellen Sie eine Pull-Anfrage. 🤯\n",
    "\n",
    "Wie man einen Pull-Request macht\n",
    "Vergessen Sie nicht, PDF-Dokumente, Folien oder alles, was Ihnen einfällt, hinzuzufügen.\n",
    "\n",
    "Sie können sich Ideen von unseren Ausbildern holen oder etwas mit Streamlit 🚀 erstellen\n",
    "\n",
    "Gehen Sie bezerk, wenn Sie diesen Job bekommen wollen, Sie werden die Grenzen setzen!\n",
    "\n",
    "PD: Auch wenn dies einen informellen Ton hat, ist diese Herausforderung ernst und sehr ähnlich zu denen, denen Sie im wirklichen Leben begegnen werden."
   ]
  },
  {
   "cell_type": "code",
   "execution_count": null,
   "id": "82c2b5da",
   "metadata": {},
   "outputs": [],
   "source": []
  },
  {
   "cell_type": "markdown",
   "id": "390c2872",
   "metadata": {},
   "source": [
    "# Linear Regression and MLP"
   ]
  },
  {
   "cell_type": "code",
   "execution_count": 1,
   "id": "85a338ee",
   "metadata": {},
   "outputs": [],
   "source": [
    "# import libraries\n",
    "import pandas as pd\n",
    "import numpy as np\n",
    "import matplotlib.pyplot as plt\n",
    "import seaborn as sns\n",
    "from sklearn.model_selection import train_test_split\n",
    "from sklearn.preprocessing import StandardScaler\n",
    "from sklearn.preprocessing import MinMaxScaler\n",
    "from sklearn.metrics import r2_score\n",
    "from sklearn.metrics import mean_squared_error as mse\n",
    "from sklearn.metrics import mean_absolute_error as mae\n",
    "from sklearn.neural_network import MLPRegressor\n",
    "from sklearn.preprocessing import OneHotEncoder\n",
    "from sklearn.linear_model import LinearRegression\n",
    "from sklearn.linear_model import LogisticRegression\n",
    "from sklearn.ensemble import RandomForestRegressor\n",
    "from sklearn.compose import make_column_transformer\n",
    "from sklearn import neighbors\n",
    "import warnings\n",
    "warnings.filterwarnings('ignore')"
   ]
  },
  {
   "cell_type": "code",
   "execution_count": 2,
   "id": "4058a2ba",
   "metadata": {},
   "outputs": [],
   "source": [
    "# load data set\n",
    "data = pd.read_csv('measurements.csv')"
   ]
  },
  {
   "cell_type": "code",
   "execution_count": 3,
   "id": "3758cfd8",
   "metadata": {},
   "outputs": [
    {
     "data": {
      "text/html": [
       "<div>\n",
       "<style scoped>\n",
       "    .dataframe tbody tr th:only-of-type {\n",
       "        vertical-align: middle;\n",
       "    }\n",
       "\n",
       "    .dataframe tbody tr th {\n",
       "        vertical-align: top;\n",
       "    }\n",
       "\n",
       "    .dataframe thead th {\n",
       "        text-align: right;\n",
       "    }\n",
       "</style>\n",
       "<table border=\"1\" class=\"dataframe\">\n",
       "  <thead>\n",
       "    <tr style=\"text-align: right;\">\n",
       "      <th></th>\n",
       "      <th>distance</th>\n",
       "      <th>consume</th>\n",
       "      <th>speed</th>\n",
       "      <th>temp_inside</th>\n",
       "      <th>temp_outside</th>\n",
       "      <th>specials</th>\n",
       "      <th>gas_type</th>\n",
       "      <th>AC</th>\n",
       "      <th>rain</th>\n",
       "      <th>sun</th>\n",
       "      <th>refill liters</th>\n",
       "      <th>refill gas</th>\n",
       "    </tr>\n",
       "  </thead>\n",
       "  <tbody>\n",
       "    <tr>\n",
       "      <th>0</th>\n",
       "      <td>28</td>\n",
       "      <td>5</td>\n",
       "      <td>26</td>\n",
       "      <td>21,5</td>\n",
       "      <td>12</td>\n",
       "      <td>NaN</td>\n",
       "      <td>E10</td>\n",
       "      <td>0</td>\n",
       "      <td>0</td>\n",
       "      <td>0</td>\n",
       "      <td>45</td>\n",
       "      <td>E10</td>\n",
       "    </tr>\n",
       "    <tr>\n",
       "      <th>1</th>\n",
       "      <td>12</td>\n",
       "      <td>4,2</td>\n",
       "      <td>30</td>\n",
       "      <td>21,5</td>\n",
       "      <td>13</td>\n",
       "      <td>NaN</td>\n",
       "      <td>E10</td>\n",
       "      <td>0</td>\n",
       "      <td>0</td>\n",
       "      <td>0</td>\n",
       "      <td>NaN</td>\n",
       "      <td>NaN</td>\n",
       "    </tr>\n",
       "    <tr>\n",
       "      <th>2</th>\n",
       "      <td>11,2</td>\n",
       "      <td>5,5</td>\n",
       "      <td>38</td>\n",
       "      <td>21,5</td>\n",
       "      <td>15</td>\n",
       "      <td>NaN</td>\n",
       "      <td>E10</td>\n",
       "      <td>0</td>\n",
       "      <td>0</td>\n",
       "      <td>0</td>\n",
       "      <td>NaN</td>\n",
       "      <td>NaN</td>\n",
       "    </tr>\n",
       "    <tr>\n",
       "      <th>3</th>\n",
       "      <td>12,9</td>\n",
       "      <td>3,9</td>\n",
       "      <td>36</td>\n",
       "      <td>21,5</td>\n",
       "      <td>14</td>\n",
       "      <td>NaN</td>\n",
       "      <td>E10</td>\n",
       "      <td>0</td>\n",
       "      <td>0</td>\n",
       "      <td>0</td>\n",
       "      <td>NaN</td>\n",
       "      <td>NaN</td>\n",
       "    </tr>\n",
       "    <tr>\n",
       "      <th>4</th>\n",
       "      <td>18,5</td>\n",
       "      <td>4,5</td>\n",
       "      <td>46</td>\n",
       "      <td>21,5</td>\n",
       "      <td>15</td>\n",
       "      <td>NaN</td>\n",
       "      <td>E10</td>\n",
       "      <td>0</td>\n",
       "      <td>0</td>\n",
       "      <td>0</td>\n",
       "      <td>NaN</td>\n",
       "      <td>NaN</td>\n",
       "    </tr>\n",
       "  </tbody>\n",
       "</table>\n",
       "</div>"
      ],
      "text/plain": [
       "  distance consume  speed temp_inside  temp_outside specials gas_type  AC  \\\n",
       "0       28       5     26        21,5            12      NaN      E10   0   \n",
       "1       12     4,2     30        21,5            13      NaN      E10   0   \n",
       "2     11,2     5,5     38        21,5            15      NaN      E10   0   \n",
       "3     12,9     3,9     36        21,5            14      NaN      E10   0   \n",
       "4     18,5     4,5     46        21,5            15      NaN      E10   0   \n",
       "\n",
       "   rain  sun refill liters refill gas  \n",
       "0     0    0            45        E10  \n",
       "1     0    0           NaN        NaN  \n",
       "2     0    0           NaN        NaN  \n",
       "3     0    0           NaN        NaN  \n",
       "4     0    0           NaN        NaN  "
      ]
     },
     "execution_count": 3,
     "metadata": {},
     "output_type": "execute_result"
    }
   ],
   "source": [
    "pd.set_option('display.max_columns', None)\n",
    "data.head(5)"
   ]
  },
  {
   "cell_type": "code",
   "execution_count": 4,
   "id": "651f6c64",
   "metadata": {},
   "outputs": [
    {
     "data": {
      "text/plain": [
       "(388, 12)"
      ]
     },
     "execution_count": 4,
     "metadata": {},
     "output_type": "execute_result"
    }
   ],
   "source": [
    "data.shape"
   ]
  },
  {
   "cell_type": "code",
   "execution_count": 5,
   "id": "099e4481",
   "metadata": {},
   "outputs": [
    {
     "data": {
      "text/plain": [
       "distance           0\n",
       "consume            0\n",
       "speed              0\n",
       "temp_inside       12\n",
       "temp_outside       0\n",
       "specials         295\n",
       "gas_type           0\n",
       "AC                 0\n",
       "rain               0\n",
       "sun                0\n",
       "refill liters    375\n",
       "refill gas       375\n",
       "dtype: int64"
      ]
     },
     "execution_count": 5,
     "metadata": {},
     "output_type": "execute_result"
    }
   ],
   "source": [
    "data.isna().sum()"
   ]
  },
  {
   "cell_type": "code",
   "execution_count": null,
   "id": "ccbcc7d7",
   "metadata": {},
   "outputs": [],
   "source": [
    "#ignore columns: \"specials\", \"refill liters\", \"refill gas\" (to many NaN-values)"
   ]
  },
  {
   "cell_type": "code",
   "execution_count": 6,
   "id": "fd545510",
   "metadata": {},
   "outputs": [
    {
     "data": {
      "text/plain": [
       "distance         object\n",
       "consume          object\n",
       "speed             int64\n",
       "temp_inside      object\n",
       "temp_outside      int64\n",
       "specials         object\n",
       "gas_type         object\n",
       "AC                int64\n",
       "rain              int64\n",
       "sun               int64\n",
       "refill liters    object\n",
       "refill gas       object\n",
       "dtype: object"
      ]
     },
     "execution_count": 6,
     "metadata": {},
     "output_type": "execute_result"
    }
   ],
   "source": [
    "data.dtypes"
   ]
  },
  {
   "cell_type": "code",
   "execution_count": 7,
   "id": "80a9d0b2",
   "metadata": {},
   "outputs": [
    {
     "data": {
      "text/plain": [
       "array([ 28. ,  12. ,  11.2,  12.9,  18.5,   8.3,   7.8,  12.3,   4.9,\n",
       "        11.9,  12.4,  11.8,  24.7,  17.3,  33.4,  25.9,  25.3,  14.2,\n",
       "        17.9,  18.4,  18.3,  32.6,  19. ,  12.1,  20. ,   4.5,  11.7,\n",
       "        10.2,   5.4,   2. ,  16. ,  27.3,  10.6,  11.6,  13.1,   6.1,\n",
       "       153.5,   2.9,   2.1,   9.8,   6.8,  14. ,  13.9,   9.7,  24.8,\n",
       "        34.8,   5.2,  10.5,  13.2,  13. ,  12.2,  12.5,  15.7,   6.4,\n",
       "         5.3,  26.2,  18.8,  22.9, 162.7,  16.6,  15.9,   5.1,  22.4,\n",
       "        31.1,  16.1,   4.2,  17.4,  23.5,   7. ,  20.1,  20.8,   1.7,\n",
       "        35.9,  36.9,  16.8,   9.9,  36.6,  44.9,  21.6,  39.4,  26.6,\n",
       "        53.2,  18.9,  43.5,  16.4,  21.1,  22.7,  44.4,  35.8,  40.6,\n",
       "        14.1,  58.7,  16.2,  31.8,  51.6,  38.6,  81.2, 130.3,  67.2,\n",
       "        43.7,  56.1,  39. ,  38.5,  28.2,  19.6,  22.2,  13.6,  12.6,\n",
       "         8.7,   7.9,   2.4,  18.1,   1.3,  13.4,  12.8,  29. ,  31.4,\n",
       "        27.1,  25.2,  14.3,  16.9,   9.2,  31.5,  24.9,  17. ,   7.4,\n",
       "        25.7,  24.5,   4.1,  15.4, 101.9,  93.9,  32.1,  48.6,  37.2,\n",
       "        28.8,   6.7,   6.6,  13.3,  12.7,  16.5,  20.6,  16.3,  18.7,\n",
       "        36.5,  29.9,  10.1,  31.9,  10.8,  19.8,  11.3,  11.5,  21.4,\n",
       "        32. ,  41.9, 211. , 216.1,  25.5,  22.1,  39.5,  21.5,   4.8,\n",
       "       100.9, 129.7,  21. ,  17.2,   6. ,  20.9,  15.3,  28.5,  14.5,\n",
       "        16.7,   5.5,  14.7])"
      ]
     },
     "execution_count": 7,
     "metadata": {},
     "output_type": "execute_result"
    }
   ],
   "source": [
    "data[\"distance\"] = data[\"distance\"].str.replace(',','.')\n",
    "data[\"distance\"] = pd.to_numeric(data[\"distance\"])\n",
    "data[\"distance\"].unique()"
   ]
  },
  {
   "cell_type": "code",
   "execution_count": 8,
   "id": "3e0410c1",
   "metadata": {},
   "outputs": [
    {
     "data": {
      "text/plain": [
       "array([ 5. ,  4.2,  5.5,  3.9,  4.5,  6.4,  4.4,  5.3,  5.6,  4.6,  5.9,\n",
       "        5.1,  4.7,  4.9,  5.7,  4.1,  5.8,  4.8,  4.3,  5.2,  7.4,  6.5,\n",
       "        4. ,  3.3,  9.9,  6.1,  6.2,  7.9, 12.2,  5.4,  3.6,  6.9,  8.7,\n",
       "        6.3,  6. , 10.8,  8.1,  7.1,  3.8,  9. ,  3.7, 11.5,  6.6])"
      ]
     },
     "execution_count": 8,
     "metadata": {},
     "output_type": "execute_result"
    }
   ],
   "source": [
    "data[\"consume\"] = data[\"consume\"].str.replace(',','.')\n",
    "data[\"consume\"] = pd.to_numeric(data[\"consume\"])\n",
    "data[\"consume\"].unique()"
   ]
  },
  {
   "cell_type": "code",
   "execution_count": 9,
   "id": "90b829bf",
   "metadata": {},
   "outputs": [
    {
     "data": {
      "text/plain": [
       "array([21.5, 22.5, 20. ,  nan, 21. , 20.5, 23. , 23.5, 25. , 24. , 22. ,\n",
       "       19. , 24.5, 25.5])"
      ]
     },
     "execution_count": 9,
     "metadata": {},
     "output_type": "execute_result"
    }
   ],
   "source": [
    "data[\"temp_inside\"] = data[\"temp_inside\"].str.replace(',','.')\n",
    "data[\"temp_inside\"] = pd.to_numeric(data[\"temp_inside\"])\n",
    "data[\"temp_inside\"].unique()"
   ]
  },
  {
   "cell_type": "code",
   "execution_count": 10,
   "id": "7ed232fb",
   "metadata": {},
   "outputs": [],
   "source": [
    "data[\"temp_delta\"] = round(((data[\"temp_inside\"]-data['temp_outside'])**2)**(1/2),2)"
   ]
  },
  {
   "cell_type": "code",
   "execution_count": 22,
   "id": "8a0f8e85",
   "metadata": {},
   "outputs": [
    {
     "data": {
      "text/html": [
       "<div>\n",
       "<style scoped>\n",
       "    .dataframe tbody tr th:only-of-type {\n",
       "        vertical-align: middle;\n",
       "    }\n",
       "\n",
       "    .dataframe tbody tr th {\n",
       "        vertical-align: top;\n",
       "    }\n",
       "\n",
       "    .dataframe thead th {\n",
       "        text-align: right;\n",
       "    }\n",
       "</style>\n",
       "<table border=\"1\" class=\"dataframe\">\n",
       "  <thead>\n",
       "    <tr style=\"text-align: right;\">\n",
       "      <th></th>\n",
       "      <th>distance</th>\n",
       "      <th>consume</th>\n",
       "      <th>speed</th>\n",
       "      <th>temp_inside</th>\n",
       "      <th>temp_outside</th>\n",
       "      <th>specials</th>\n",
       "      <th>gas_type</th>\n",
       "      <th>AC</th>\n",
       "      <th>rain</th>\n",
       "      <th>sun</th>\n",
       "      <th>refill liters</th>\n",
       "      <th>refill gas</th>\n",
       "      <th>temp_delta</th>\n",
       "    </tr>\n",
       "  </thead>\n",
       "  <tbody>\n",
       "    <tr>\n",
       "      <th>0</th>\n",
       "      <td>28.0</td>\n",
       "      <td>5.0</td>\n",
       "      <td>26</td>\n",
       "      <td>21.5</td>\n",
       "      <td>12</td>\n",
       "      <td>NaN</td>\n",
       "      <td>E10</td>\n",
       "      <td>0</td>\n",
       "      <td>0</td>\n",
       "      <td>0</td>\n",
       "      <td>45</td>\n",
       "      <td>E10</td>\n",
       "      <td>9.5</td>\n",
       "    </tr>\n",
       "    <tr>\n",
       "      <th>1</th>\n",
       "      <td>12.0</td>\n",
       "      <td>4.2</td>\n",
       "      <td>30</td>\n",
       "      <td>21.5</td>\n",
       "      <td>13</td>\n",
       "      <td>NaN</td>\n",
       "      <td>E10</td>\n",
       "      <td>0</td>\n",
       "      <td>0</td>\n",
       "      <td>0</td>\n",
       "      <td>NaN</td>\n",
       "      <td>NaN</td>\n",
       "      <td>8.5</td>\n",
       "    </tr>\n",
       "    <tr>\n",
       "      <th>2</th>\n",
       "      <td>11.2</td>\n",
       "      <td>5.5</td>\n",
       "      <td>38</td>\n",
       "      <td>21.5</td>\n",
       "      <td>15</td>\n",
       "      <td>NaN</td>\n",
       "      <td>E10</td>\n",
       "      <td>0</td>\n",
       "      <td>0</td>\n",
       "      <td>0</td>\n",
       "      <td>NaN</td>\n",
       "      <td>NaN</td>\n",
       "      <td>6.5</td>\n",
       "    </tr>\n",
       "    <tr>\n",
       "      <th>3</th>\n",
       "      <td>12.9</td>\n",
       "      <td>3.9</td>\n",
       "      <td>36</td>\n",
       "      <td>21.5</td>\n",
       "      <td>14</td>\n",
       "      <td>NaN</td>\n",
       "      <td>E10</td>\n",
       "      <td>0</td>\n",
       "      <td>0</td>\n",
       "      <td>0</td>\n",
       "      <td>NaN</td>\n",
       "      <td>NaN</td>\n",
       "      <td>7.5</td>\n",
       "    </tr>\n",
       "    <tr>\n",
       "      <th>4</th>\n",
       "      <td>18.5</td>\n",
       "      <td>4.5</td>\n",
       "      <td>46</td>\n",
       "      <td>21.5</td>\n",
       "      <td>15</td>\n",
       "      <td>NaN</td>\n",
       "      <td>E10</td>\n",
       "      <td>0</td>\n",
       "      <td>0</td>\n",
       "      <td>0</td>\n",
       "      <td>NaN</td>\n",
       "      <td>NaN</td>\n",
       "      <td>6.5</td>\n",
       "    </tr>\n",
       "  </tbody>\n",
       "</table>\n",
       "</div>"
      ],
      "text/plain": [
       "   distance  consume  speed  temp_inside  temp_outside specials gas_type  AC  \\\n",
       "0      28.0      5.0     26         21.5            12      NaN      E10   0   \n",
       "1      12.0      4.2     30         21.5            13      NaN      E10   0   \n",
       "2      11.2      5.5     38         21.5            15      NaN      E10   0   \n",
       "3      12.9      3.9     36         21.5            14      NaN      E10   0   \n",
       "4      18.5      4.5     46         21.5            15      NaN      E10   0   \n",
       "\n",
       "   rain  sun refill liters refill gas  temp_delta  \n",
       "0     0    0            45        E10         9.5  \n",
       "1     0    0           NaN        NaN         8.5  \n",
       "2     0    0           NaN        NaN         6.5  \n",
       "3     0    0           NaN        NaN         7.5  \n",
       "4     0    0           NaN        NaN         6.5  "
      ]
     },
     "execution_count": 22,
     "metadata": {},
     "output_type": "execute_result"
    }
   ],
   "source": [
    "data.head(5)"
   ]
  },
  {
   "cell_type": "code",
   "execution_count": 44,
   "id": "20922ab3",
   "metadata": {},
   "outputs": [
    {
     "data": {
      "text/plain": [
       "array([nan, 'AC rain', 'AC', 'rain', 'snow', 'AC snow',\n",
       "       'half rain half sun', 'sun', 'AC sun', 'sun ac', 'ac', 'AC Sun',\n",
       "       'ac rain'], dtype=object)"
      ]
     },
     "execution_count": 44,
     "metadata": {},
     "output_type": "execute_result"
    }
   ],
   "source": [
    "data[\"specials\"].unique()"
   ]
  },
  {
   "cell_type": "code",
   "execution_count": 46,
   "id": "7429c571",
   "metadata": {},
   "outputs": [
    {
     "data": {
      "text/plain": [
       "21.929521276595743"
      ]
     },
     "execution_count": 46,
     "metadata": {},
     "output_type": "execute_result"
    }
   ],
   "source": [
    "data[\"temp_inside\"].mean()"
   ]
  },
  {
   "cell_type": "code",
   "execution_count": 47,
   "id": "9ba4589c",
   "metadata": {},
   "outputs": [],
   "source": [
    "# fill NaN-values with mean\n",
    "data['temp_inside'] = data['temp_inside'].fillna(22)"
   ]
  },
  {
   "cell_type": "code",
   "execution_count": 48,
   "id": "b0988cb3",
   "metadata": {},
   "outputs": [
    {
     "data": {
      "text/plain": [
       "array([0, 1], dtype=int64)"
      ]
     },
     "execution_count": 48,
     "metadata": {},
     "output_type": "execute_result"
    }
   ],
   "source": [
    "data[\"AC\"].unique()"
   ]
  },
  {
   "cell_type": "code",
   "execution_count": 49,
   "id": "c94a2a45",
   "metadata": {},
   "outputs": [
    {
     "data": {
      "text/plain": [
       "array([0, 1], dtype=int64)"
      ]
     },
     "execution_count": 49,
     "metadata": {},
     "output_type": "execute_result"
    }
   ],
   "source": [
    "data[\"rain\"].unique()"
   ]
  },
  {
   "cell_type": "code",
   "execution_count": 50,
   "id": "a25273b9",
   "metadata": {},
   "outputs": [
    {
     "data": {
      "text/plain": [
       "array([0, 1], dtype=int64)"
      ]
     },
     "execution_count": 50,
     "metadata": {},
     "output_type": "execute_result"
    }
   ],
   "source": [
    "data[\"sun\"].unique()"
   ]
  },
  {
   "cell_type": "code",
   "execution_count": 52,
   "id": "918fdbbb",
   "metadata": {},
   "outputs": [
    {
     "data": {
      "text/plain": [
       "array([45. ,  nan, 37.6, 37.7, 38. , 38.3, 10. , 39. , 41. , 37. , 37.2])"
      ]
     },
     "execution_count": 52,
     "metadata": {},
     "output_type": "execute_result"
    }
   ],
   "source": [
    "data[\"refill liters\"] = data[\"refill liters\"].str.replace(',','.')\n",
    "data[\"refill liters\"] = pd.to_numeric(data[\"refill liters\"])\n",
    "data[\"refill liters\"].unique()"
   ]
  },
  {
   "cell_type": "code",
   "execution_count": 53,
   "id": "cb452090",
   "metadata": {},
   "outputs": [
    {
     "data": {
      "text/plain": [
       "array(['E10', nan, 'SP98'], dtype=object)"
      ]
     },
     "execution_count": 53,
     "metadata": {},
     "output_type": "execute_result"
    }
   ],
   "source": [
    "data[\"refill gas\"].unique()"
   ]
  },
  {
   "cell_type": "code",
   "execution_count": null,
   "id": "7c5db0f3",
   "metadata": {},
   "outputs": [],
   "source": []
  },
  {
   "cell_type": "code",
   "execution_count": null,
   "id": "6b12bcdd",
   "metadata": {},
   "outputs": [],
   "source": []
  },
  {
   "cell_type": "markdown",
   "id": "bd766464",
   "metadata": {},
   "source": [
    "# visualization"
   ]
  },
  {
   "cell_type": "code",
   "execution_count": 11,
   "id": "57c6db0d",
   "metadata": {},
   "outputs": [
    {
     "name": "stdout",
     "output_type": "stream",
     "text": [
      "distance Vs consume\n"
     ]
    },
    {
     "data": {
      "image/png": "[encoded data removed]",
      "text/plain": [
       "<Figure size 1440x720 with 1 Axes>"
      ]
     },
     "metadata": {
      "needs_background": "light"
     },
     "output_type": "display_data"
    }
   ],
   "source": [
    "plt.figure(figsize = (20,10))\n",
    "ax = sns.barplot(x = 'consume', y = 'distance', data = data)\n",
    "ax.set_xticklabels(ax.get_xticklabels(), rotation = 90)\n",
    "title = print(\"distance Vs consume\")\n",
    "plt.title(title, fontsize = 30)\n",
    "plt.xlabel('consume', fontsize = 20)\n",
    "plt.ylabel('distance', fontsize = 20)\n",
    "plt.show()"
   ]
  },
  {
   "cell_type": "code",
   "execution_count": 12,
   "id": "d13cf358",
   "metadata": {},
   "outputs": [
    {
     "name": "stdout",
     "output_type": "stream",
     "text": [
      "speed Vs consume\n"
     ]
    },
    {
     "data": {
      "image/png": "[encoded data removed]",
      "text/plain": [
       "<Figure size 1440x720 with 1 Axes>"
      ]
     },
     "metadata": {
      "needs_background": "light"
     },
     "output_type": "display_data"
    }
   ],
   "source": [
    "plt.figure(figsize = (20,10))\n",
    "ax = sns.barplot(x = 'consume', y = 'speed', data = data)\n",
    "ax.set_xticklabels(ax.get_xticklabels(), rotation = 90)\n",
    "title = print(\"speed Vs consume\")\n",
    "plt.title(title, fontsize = 30)\n",
    "plt.xlabel('consume', fontsize = 20)\n",
    "plt.ylabel('speed', fontsize = 20)\n",
    "plt.show()"
   ]
  },
  {
   "cell_type": "code",
   "execution_count": 13,
   "id": "7b3a9b2a",
   "metadata": {},
   "outputs": [
    {
     "name": "stdout",
     "output_type": "stream",
     "text": [
      "gas_type Vs consume\n"
     ]
    },
    {
     "data": {
      "image/png": "[encoded data removed]",
      "text/plain": [
       "<Figure size 1440x720 with 1 Axes>"
      ]
     },
     "metadata": {
      "needs_background": "light"
     },
     "output_type": "display_data"
    }
   ],
   "source": [
    "plt.figure(figsize = (20,10))\n",
    "ax = sns.barplot(x = 'consume', y = 'gas_type', data = data)\n",
    "ax.set_xticklabels(ax.get_xticklabels(), rotation = 90)\n",
    "title = print(\"gas_type Vs consume\")\n",
    "plt.title(title, fontsize = 30)\n",
    "plt.xlabel('consume', fontsize = 20)\n",
    "plt.ylabel('gas_type', fontsize = 20)\n",
    "plt.show()"
   ]
  },
  {
   "cell_type": "markdown",
   "id": "8f56f29b",
   "metadata": {},
   "source": [
    "# Overview"
   ]
  },
  {
   "cell_type": "code",
   "execution_count": 39,
   "id": "51d55808",
   "metadata": {},
   "outputs": [
    {
     "data": {
      "text/plain": [
       "array(['E10', 'SP98'], dtype=object)"
      ]
     },
     "execution_count": 39,
     "metadata": {},
     "output_type": "execute_result"
    }
   ],
   "source": [
    "data[\"gas_type\"].unique()"
   ]
  },
  {
   "cell_type": "code",
   "execution_count": 40,
   "id": "bd236f62",
   "metadata": {},
   "outputs": [
    {
     "data": {
      "text/plain": [
       "SP98    228\n",
       "E10     160\n",
       "Name: gas_type, dtype: int64"
      ]
     },
     "execution_count": 40,
     "metadata": {},
     "output_type": "execute_result"
    }
   ],
   "source": [
    "data[\"gas_type\"].value_counts(dropna=False).head(10)"
   ]
  },
  {
   "cell_type": "code",
   "execution_count": 41,
   "id": "ea5dd491",
   "metadata": {},
   "outputs": [
    {
     "name": "stdout",
     "output_type": "stream",
     "text": [
      "distance Vs gas_type\n"
     ]
    },
    {
     "data": {
      "image/png": "[encoded data removed]",
      "text/plain": [
       "<Figure size 1440x720 with 1 Axes>"
      ]
     },
     "metadata": {
      "needs_background": "light"
     },
     "output_type": "display_data"
    }
   ],
   "source": [
    "plt.figure(figsize = (20,10))\n",
    "ax = sns.barplot(x = 'gas_type', y = 'distance', data = data)\n",
    "ax.set_xticklabels(ax.get_xticklabels(), rotation = 90)\n",
    "title = print(\"distance Vs gas_type\")\n",
    "plt.title(title, fontsize = 30)\n",
    "plt.xlabel('gas_type', fontsize = 20)\n",
    "plt.ylabel('distance', fontsize = 20)\n",
    "plt.show()"
   ]
  },
  {
   "cell_type": "code",
   "execution_count": null,
   "id": "c902caf0",
   "metadata": {},
   "outputs": [],
   "source": [
    "# distance is lower when driving sp98"
   ]
  },
  {
   "cell_type": "code",
   "execution_count": 42,
   "id": "a3f1c27a",
   "metadata": {},
   "outputs": [
    {
     "name": "stdout",
     "output_type": "stream",
     "text": [
      "consume Vs gas_type\n"
     ]
    },
    {
     "data": {
      "image/png": "[encoded data removed]",
      "text/plain": [
       "<Figure size 1440x720 with 1 Axes>"
      ]
     },
     "metadata": {
      "needs_background": "light"
     },
     "output_type": "display_data"
    }
   ],
   "source": [
    "plt.figure(figsize = (20,10))\n",
    "ax = sns.barplot(x = 'gas_type', y = 'consume', data = data)\n",
    "ax.set_xticklabels(ax.get_xticklabels(), rotation = 90)\n",
    "title = print(\"consume Vs gas_type\")\n",
    "plt.title(title, fontsize = 30)\n",
    "plt.xlabel('gas_type', fontsize = 20)\n",
    "plt.ylabel('consume', fontsize = 20)\n",
    "plt.show()"
   ]
  },
  {
   "cell_type": "code",
   "execution_count": null,
   "id": "5ce075e2",
   "metadata": {},
   "outputs": [],
   "source": [
    "# e10 and sp98 have roughly the same consume of gas"
   ]
  },
  {
   "cell_type": "code",
   "execution_count": 43,
   "id": "f705eb07",
   "metadata": {},
   "outputs": [
    {
     "name": "stdout",
     "output_type": "stream",
     "text": [
      "speed Vs gas_type\n"
     ]
    },
    {
     "data": {
      "image/png": "[encoded data removed]",
      "text/plain": [
       "<Figure size 1440x720 with 1 Axes>"
      ]
     },
     "metadata": {
      "needs_background": "light"
     },
     "output_type": "display_data"
    }
   ],
   "source": [
    "plt.figure(figsize = (20,10))\n",
    "ax = sns.barplot(x = 'gas_type', y = 'speed', data = data)\n",
    "ax.set_xticklabels(ax.get_xticklabels(), rotation = 90)\n",
    "title = print(\"speed Vs gas_type\")\n",
    "plt.title(title, fontsize = 30)\n",
    "plt.xlabel('gas_type', fontsize = 20)\n",
    "plt.ylabel('speed', fontsize = 20)\n",
    "plt.show()"
   ]
  },
  {
   "cell_type": "code",
   "execution_count": null,
   "id": "fdb2a8e2",
   "metadata": {},
   "outputs": [],
   "source": [
    "# speed is lower when driving sp98"
   ]
  },
  {
   "cell_type": "markdown",
   "id": "c75813dc",
   "metadata": {},
   "source": [
    "# Models (consum)"
   ]
  },
  {
   "cell_type": "code",
   "execution_count": 14,
   "id": "ad62af3a",
   "metadata": {},
   "outputs": [
    {
     "data": {
      "image/png": "[encoded data removed]",
      "text/plain": [
       "<Figure size 1440x1440 with 2 Axes>"
      ]
     },
     "metadata": {
      "needs_background": "light"
     },
     "output_type": "display_data"
    }
   ],
   "source": [
    "correlations_matrix = data.corr()\n",
    "fig, ax = plt.subplots(figsize=(20,20)) \n",
    "sns.heatmap(correlations_matrix, annot=True, fmt='.2g', annot_kws={\n",
    "                'fontsize': 15,\n",
    "                'fontfamily': 'serif'\n",
    "            })\n",
    "plt.xticks(rotation=90, fontsize=30)\n",
    "plt.yticks(rotation=0, fontsize=30)\n",
    "plt.show()"
   ]
  },
  {
   "cell_type": "markdown",
   "id": "5d44c337",
   "metadata": {},
   "source": [
    "### Feature selection"
   ]
  },
  {
   "cell_type": "code",
   "execution_count": 23,
   "id": "8556c2cc",
   "metadata": {},
   "outputs": [
    {
     "data": {
      "text/html": [
       "<div>\n",
       "<style scoped>\n",
       "    .dataframe tbody tr th:only-of-type {\n",
       "        vertical-align: middle;\n",
       "    }\n",
       "\n",
       "    .dataframe tbody tr th {\n",
       "        vertical-align: top;\n",
       "    }\n",
       "\n",
       "    .dataframe thead th {\n",
       "        text-align: right;\n",
       "    }\n",
       "</style>\n",
       "<table border=\"1\" class=\"dataframe\">\n",
       "  <thead>\n",
       "    <tr style=\"text-align: right;\">\n",
       "      <th></th>\n",
       "      <th>rain</th>\n",
       "      <th>temp_outside</th>\n",
       "      <th>sun</th>\n",
       "      <th>speed</th>\n",
       "    </tr>\n",
       "  </thead>\n",
       "  <tbody>\n",
       "    <tr>\n",
       "      <th>0</th>\n",
       "      <td>0</td>\n",
       "      <td>12</td>\n",
       "      <td>0</td>\n",
       "      <td>26</td>\n",
       "    </tr>\n",
       "    <tr>\n",
       "      <th>1</th>\n",
       "      <td>0</td>\n",
       "      <td>13</td>\n",
       "      <td>0</td>\n",
       "      <td>30</td>\n",
       "    </tr>\n",
       "    <tr>\n",
       "      <th>2</th>\n",
       "      <td>0</td>\n",
       "      <td>15</td>\n",
       "      <td>0</td>\n",
       "      <td>38</td>\n",
       "    </tr>\n",
       "    <tr>\n",
       "      <th>3</th>\n",
       "      <td>0</td>\n",
       "      <td>14</td>\n",
       "      <td>0</td>\n",
       "      <td>36</td>\n",
       "    </tr>\n",
       "    <tr>\n",
       "      <th>4</th>\n",
       "      <td>0</td>\n",
       "      <td>15</td>\n",
       "      <td>0</td>\n",
       "      <td>46</td>\n",
       "    </tr>\n",
       "  </tbody>\n",
       "</table>\n",
       "</div>"
      ],
      "text/plain": [
       "   rain  temp_outside  sun  speed\n",
       "0     0            12    0     26\n",
       "1     0            13    0     30\n",
       "2     0            15    0     38\n",
       "3     0            14    0     36\n",
       "4     0            15    0     46"
      ]
     },
     "execution_count": 23,
     "metadata": {},
     "output_type": "execute_result"
    }
   ],
   "source": [
    "x = data[['rain', 'temp_outside', 'sun', 'speed']].copy()\n",
    "x.head(5)"
   ]
  },
  {
   "cell_type": "markdown",
   "id": "c9987a10",
   "metadata": {},
   "source": [
    "### Target selection (consume)"
   ]
  },
  {
   "cell_type": "code",
   "execution_count": 24,
   "id": "9d7cf72b",
   "metadata": {},
   "outputs": [
    {
     "data": {
      "text/html": [
       "<div>\n",
       "<style scoped>\n",
       "    .dataframe tbody tr th:only-of-type {\n",
       "        vertical-align: middle;\n",
       "    }\n",
       "\n",
       "    .dataframe tbody tr th {\n",
       "        vertical-align: top;\n",
       "    }\n",
       "\n",
       "    .dataframe thead th {\n",
       "        text-align: right;\n",
       "    }\n",
       "</style>\n",
       "<table border=\"1\" class=\"dataframe\">\n",
       "  <thead>\n",
       "    <tr style=\"text-align: right;\">\n",
       "      <th></th>\n",
       "      <th>consume</th>\n",
       "    </tr>\n",
       "  </thead>\n",
       "  <tbody>\n",
       "    <tr>\n",
       "      <th>0</th>\n",
       "      <td>5.0</td>\n",
       "    </tr>\n",
       "    <tr>\n",
       "      <th>1</th>\n",
       "      <td>4.2</td>\n",
       "    </tr>\n",
       "    <tr>\n",
       "      <th>2</th>\n",
       "      <td>5.5</td>\n",
       "    </tr>\n",
       "    <tr>\n",
       "      <th>3</th>\n",
       "      <td>3.9</td>\n",
       "    </tr>\n",
       "    <tr>\n",
       "      <th>4</th>\n",
       "      <td>4.5</td>\n",
       "    </tr>\n",
       "  </tbody>\n",
       "</table>\n",
       "</div>"
      ],
      "text/plain": [
       "   consume\n",
       "0      5.0\n",
       "1      4.2\n",
       "2      5.5\n",
       "3      3.9\n",
       "4      4.5"
      ]
     },
     "execution_count": 24,
     "metadata": {},
     "output_type": "execute_result"
    }
   ],
   "source": [
    "y = data[['consume']].copy()\n",
    "y.head(5)"
   ]
  },
  {
   "cell_type": "markdown",
   "id": "527bad87",
   "metadata": {},
   "source": [
    "### Train test split"
   ]
  },
  {
   "cell_type": "code",
   "execution_count": 25,
   "id": "a19aa59f",
   "metadata": {},
   "outputs": [],
   "source": [
    "train_X, test_X, train_Y, test_Y = train_test_split(x, y, test_size = 0.2, random_state = 42)"
   ]
  },
  {
   "cell_type": "code",
   "execution_count": 26,
   "id": "3d284ab5",
   "metadata": {},
   "outputs": [
    {
     "name": "stdout",
     "output_type": "stream",
     "text": [
      "train_X=  (310, 4)\n",
      "test_X=  (78, 4)\n",
      "train_Y=  (310, 1)\n",
      "test_Y=  (78, 1)\n"
     ]
    }
   ],
   "source": [
    "print('train_X= ',train_X.shape)\n",
    "print('test_X= ',test_X.shape)\n",
    "print('train_Y= ',train_Y.shape)\n",
    "print('test_Y= ',test_Y.shape)"
   ]
  },
  {
   "cell_type": "markdown",
   "id": "c60e9b23",
   "metadata": {},
   "source": [
    "### Scaling data"
   ]
  },
  {
   "cell_type": "code",
   "execution_count": 27,
   "id": "0a067cf0",
   "metadata": {},
   "outputs": [],
   "source": [
    "sc = StandardScaler()\n",
    "train_X = sc.fit_transform(train_X)\n",
    "test_X = sc.transform(test_X)"
   ]
  },
  {
   "cell_type": "markdown",
   "id": "f3f893ab",
   "metadata": {},
   "source": [
    "# Linear Regression"
   ]
  },
  {
   "cell_type": "code",
   "execution_count": 28,
   "id": "42209c06",
   "metadata": {},
   "outputs": [
    {
     "name": "stdout",
     "output_type": "stream",
     "text": [
      "train R2: 0.1963222268849718 -- test R2: 0.16468199767509062\n",
      "train MSE: 0.8873974972344627 -- test MSE: 0.7578890760574651\n",
      "train RMSE: 0.9420177796806506 -- test RMSE: 0.8705682489371325\n",
      "train MAE: 0.8873974972344627 -- test MAE: 0.7578890760574651\n"
     ]
    }
   ],
   "source": [
    "linreg=LinearRegression()    # model\n",
    "linreg.fit(train_X, train_Y)   # model train\n",
    "y_pred_linreg=linreg.predict(test_X)   # model prediction\n",
    "print ('train R2: {} -- test R2: {}'.format(linreg.score(train_X, train_Y),\n",
    "                                            linreg.score(test_X, test_Y)))\n",
    "\n",
    "# mean squared error\n",
    "train_mse=mse(linreg.predict(train_X), train_Y)\n",
    "test_mse=mse(linreg.predict(test_X), test_Y)\n",
    "print ('train MSE: {} -- test MSE: {}'.format(train_mse, test_mse))\n",
    "print ('train RMSE: {} -- test RMSE: {}'.format(train_mse**.5, test_mse**.5))\n",
    "\n",
    "#mean_absolute_error\n",
    "train_mae=mae(linreg.predict(train_X), train_Y)\n",
    "test_mae=mae(linreg.predict(test_X), test_Y)\n",
    "\n",
    "print ('train MAE: {} -- test MAE: {}'.format(train_mse, test_mse))\n",
    "\n",
    "def normalize(X):         # normalization function\n",
    "    X_mean=X.mean(axis=0)\n",
    "    X_std=X.std(axis=0)\n",
    "    X_std[X_std==0]=1.0\n",
    "    X=(X-X_mean)/X_std\n",
    "    return X"
   ]
  },
  {
   "cell_type": "markdown",
   "id": "a66bb096",
   "metadata": {},
   "source": [
    "# MLP Regressor"
   ]
  },
  {
   "cell_type": "code",
   "execution_count": 29,
   "id": "8af799c8",
   "metadata": {},
   "outputs": [
    {
     "name": "stdout",
     "output_type": "stream",
     "text": [
      "mlp_test_score is:  0.19972613708765075\n"
     ]
    }
   ],
   "source": [
    "# Fitting and training the model\n",
    "mlp = MLPRegressor(hidden_layer_sizes=(50, 50))\n",
    "mlp.fit(train_X, train_Y)\n",
    "\n",
    "# Predictions on TEST data and score\n",
    "mlp_test_predictions = mlp.predict(test_X)\n",
    "mlp_test_score = r2_score(test_Y,mlp_test_predictions)\n",
    "print(\"mlp_test_score is: \", mlp_test_score)"
   ]
  },
  {
   "cell_type": "markdown",
   "id": "74cfc390",
   "metadata": {},
   "source": [
    "# RandomForestRegressor"
   ]
  },
  {
   "cell_type": "code",
   "execution_count": 30,
   "id": "0870b332",
   "metadata": {},
   "outputs": [
    {
     "name": "stdout",
     "output_type": "stream",
     "text": [
      "train-score is: 0.45638775665544473\n",
      "test-score is: 0.2949083562972592\n"
     ]
    }
   ],
   "source": [
    "regr = RandomForestRegressor(max_depth=10,\n",
    "                             criterion = 'squared_error',\n",
    "                             min_samples_split=10,\n",
    "                             min_samples_leaf = 10)\n",
    "regr.fit(train_X, train_Y)\n",
    "print(\"train-score is:\",regr.score(train_X, train_Y))\n",
    "print(\"test-score is:\",regr.score(test_X, test_Y))\n",
    "y_pred4 = regr.predict(test_X)"
   ]
  },
  {
   "cell_type": "markdown",
   "id": "efcf2622",
   "metadata": {},
   "source": [
    "#### Distance (Linear Regression)\n",
    "-->calculates the average distance (difference) between target (base rent [Euro]/living space[m]) and prediction (in [Euro/m²])"
   ]
  },
  {
   "cell_type": "code",
   "execution_count": 31,
   "id": "fe615c5e",
   "metadata": {},
   "outputs": [],
   "source": [
    "dist1=pd.concat([test_Y], axis=1)\n",
    "dist1['predicted'] = y_pred_linreg\n",
    "dist1['difference'] = round(((dist1['consume']-dist1['predicted'])**2)**(1/2),2)"
   ]
  },
  {
   "cell_type": "code",
   "execution_count": 32,
   "id": "8629da72",
   "metadata": {},
   "outputs": [
    {
     "data": {
      "text/html": [
       "<div>\n",
       "<style scoped>\n",
       "    .dataframe tbody tr th:only-of-type {\n",
       "        vertical-align: middle;\n",
       "    }\n",
       "\n",
       "    .dataframe tbody tr th {\n",
       "        vertical-align: top;\n",
       "    }\n",
       "\n",
       "    .dataframe thead th {\n",
       "        text-align: right;\n",
       "    }\n",
       "</style>\n",
       "<table border=\"1\" class=\"dataframe\">\n",
       "  <thead>\n",
       "    <tr style=\"text-align: right;\">\n",
       "      <th></th>\n",
       "      <th>consume</th>\n",
       "      <th>predicted</th>\n",
       "      <th>difference</th>\n",
       "    </tr>\n",
       "  </thead>\n",
       "  <tbody>\n",
       "    <tr>\n",
       "      <th>271</th>\n",
       "      <td>5.6</td>\n",
       "      <td>4.768899</td>\n",
       "      <td>0.83</td>\n",
       "    </tr>\n",
       "    <tr>\n",
       "      <th>46</th>\n",
       "      <td>5.1</td>\n",
       "      <td>5.182191</td>\n",
       "      <td>0.08</td>\n",
       "    </tr>\n",
       "    <tr>\n",
       "      <th>167</th>\n",
       "      <td>6.1</td>\n",
       "      <td>5.075451</td>\n",
       "      <td>1.02</td>\n",
       "    </tr>\n",
       "    <tr>\n",
       "      <th>42</th>\n",
       "      <td>4.6</td>\n",
       "      <td>5.129568</td>\n",
       "      <td>0.53</td>\n",
       "    </tr>\n",
       "    <tr>\n",
       "      <th>349</th>\n",
       "      <td>4.3</td>\n",
       "      <td>4.591498</td>\n",
       "      <td>0.29</td>\n",
       "    </tr>\n",
       "    <tr>\n",
       "      <th>...</th>\n",
       "      <td>...</td>\n",
       "      <td>...</td>\n",
       "      <td>...</td>\n",
       "    </tr>\n",
       "    <tr>\n",
       "      <th>3</th>\n",
       "      <td>3.9</td>\n",
       "      <td>4.847031</td>\n",
       "      <td>0.95</td>\n",
       "    </tr>\n",
       "    <tr>\n",
       "      <th>18</th>\n",
       "      <td>4.9</td>\n",
       "      <td>5.018346</td>\n",
       "      <td>0.12</td>\n",
       "    </tr>\n",
       "    <tr>\n",
       "      <th>93</th>\n",
       "      <td>4.7</td>\n",
       "      <td>4.871046</td>\n",
       "      <td>0.17</td>\n",
       "    </tr>\n",
       "    <tr>\n",
       "      <th>108</th>\n",
       "      <td>4.7</td>\n",
       "      <td>5.222751</td>\n",
       "      <td>0.52</td>\n",
       "    </tr>\n",
       "    <tr>\n",
       "      <th>255</th>\n",
       "      <td>4.4</td>\n",
       "      <td>5.126580</td>\n",
       "      <td>0.73</td>\n",
       "    </tr>\n",
       "  </tbody>\n",
       "</table>\n",
       "<p>78 rows × 3 columns</p>\n",
       "</div>"
      ],
      "text/plain": [
       "     consume  predicted  difference\n",
       "271      5.6   4.768899        0.83\n",
       "46       5.1   5.182191        0.08\n",
       "167      6.1   5.075451        1.02\n",
       "42       4.6   5.129568        0.53\n",
       "349      4.3   4.591498        0.29\n",
       "..       ...        ...         ...\n",
       "3        3.9   4.847031        0.95\n",
       "18       4.9   5.018346        0.12\n",
       "93       4.7   4.871046        0.17\n",
       "108      4.7   5.222751        0.52\n",
       "255      4.4   5.126580        0.73\n",
       "\n",
       "[78 rows x 3 columns]"
      ]
     },
     "execution_count": 32,
     "metadata": {},
     "output_type": "execute_result"
    }
   ],
   "source": [
    "dist1"
   ]
  },
  {
   "cell_type": "code",
   "execution_count": 33,
   "id": "835a097e",
   "metadata": {},
   "outputs": [
    {
     "data": {
      "text/plain": [
       "0.6176923076923077"
      ]
     },
     "execution_count": 33,
     "metadata": {},
     "output_type": "execute_result"
    }
   ],
   "source": [
    "dist1['difference'].mean()"
   ]
  },
  {
   "cell_type": "markdown",
   "id": "2bcb8dc4",
   "metadata": {},
   "source": [
    "#### Distance (MLP)"
   ]
  },
  {
   "cell_type": "code",
   "execution_count": 34,
   "id": "7321f04f",
   "metadata": {},
   "outputs": [],
   "source": [
    "dist2=pd.concat([test_Y], axis=1)\n",
    "dist2['predicted'] = mlp_test_predictions\n",
    "dist2['difference'] = round(((dist2['consume']-dist2['predicted'])**2)**(1/2),2)"
   ]
  },
  {
   "cell_type": "code",
   "execution_count": 35,
   "id": "9a71a5dc",
   "metadata": {},
   "outputs": [
    {
     "data": {
      "text/html": [
       "<div>\n",
       "<style scoped>\n",
       "    .dataframe tbody tr th:only-of-type {\n",
       "        vertical-align: middle;\n",
       "    }\n",
       "\n",
       "    .dataframe tbody tr th {\n",
       "        vertical-align: top;\n",
       "    }\n",
       "\n",
       "    .dataframe thead th {\n",
       "        text-align: right;\n",
       "    }\n",
       "</style>\n",
       "<table border=\"1\" class=\"dataframe\">\n",
       "  <thead>\n",
       "    <tr style=\"text-align: right;\">\n",
       "      <th></th>\n",
       "      <th>consume</th>\n",
       "      <th>predicted</th>\n",
       "      <th>difference</th>\n",
       "    </tr>\n",
       "  </thead>\n",
       "  <tbody>\n",
       "    <tr>\n",
       "      <th>271</th>\n",
       "      <td>5.6</td>\n",
       "      <td>4.524298</td>\n",
       "      <td>1.08</td>\n",
       "    </tr>\n",
       "    <tr>\n",
       "      <th>46</th>\n",
       "      <td>5.1</td>\n",
       "      <td>4.983938</td>\n",
       "      <td>0.12</td>\n",
       "    </tr>\n",
       "    <tr>\n",
       "      <th>167</th>\n",
       "      <td>6.1</td>\n",
       "      <td>4.659672</td>\n",
       "      <td>1.44</td>\n",
       "    </tr>\n",
       "    <tr>\n",
       "      <th>42</th>\n",
       "      <td>4.6</td>\n",
       "      <td>4.771022</td>\n",
       "      <td>0.17</td>\n",
       "    </tr>\n",
       "    <tr>\n",
       "      <th>349</th>\n",
       "      <td>4.3</td>\n",
       "      <td>4.241910</td>\n",
       "      <td>0.06</td>\n",
       "    </tr>\n",
       "    <tr>\n",
       "      <th>...</th>\n",
       "      <td>...</td>\n",
       "      <td>...</td>\n",
       "      <td>...</td>\n",
       "    </tr>\n",
       "    <tr>\n",
       "      <th>3</th>\n",
       "      <td>3.9</td>\n",
       "      <td>4.541737</td>\n",
       "      <td>0.64</td>\n",
       "    </tr>\n",
       "    <tr>\n",
       "      <th>18</th>\n",
       "      <td>4.9</td>\n",
       "      <td>4.544593</td>\n",
       "      <td>0.36</td>\n",
       "    </tr>\n",
       "    <tr>\n",
       "      <th>93</th>\n",
       "      <td>4.7</td>\n",
       "      <td>4.452439</td>\n",
       "      <td>0.25</td>\n",
       "    </tr>\n",
       "    <tr>\n",
       "      <th>108</th>\n",
       "      <td>4.7</td>\n",
       "      <td>5.039800</td>\n",
       "      <td>0.34</td>\n",
       "    </tr>\n",
       "    <tr>\n",
       "      <th>255</th>\n",
       "      <td>4.4</td>\n",
       "      <td>4.844127</td>\n",
       "      <td>0.44</td>\n",
       "    </tr>\n",
       "  </tbody>\n",
       "</table>\n",
       "<p>78 rows × 3 columns</p>\n",
       "</div>"
      ],
      "text/plain": [
       "     consume  predicted  difference\n",
       "271      5.6   4.524298        1.08\n",
       "46       5.1   4.983938        0.12\n",
       "167      6.1   4.659672        1.44\n",
       "42       4.6   4.771022        0.17\n",
       "349      4.3   4.241910        0.06\n",
       "..       ...        ...         ...\n",
       "3        3.9   4.541737        0.64\n",
       "18       4.9   4.544593        0.36\n",
       "93       4.7   4.452439        0.25\n",
       "108      4.7   5.039800        0.34\n",
       "255      4.4   4.844127        0.44\n",
       "\n",
       "[78 rows x 3 columns]"
      ]
     },
     "execution_count": 35,
     "metadata": {},
     "output_type": "execute_result"
    }
   ],
   "source": [
    "dist2"
   ]
  },
  {
   "cell_type": "code",
   "execution_count": 36,
   "id": "b11e828b",
   "metadata": {},
   "outputs": [
    {
     "data": {
      "text/plain": [
       "0.6132051282051282"
      ]
     },
     "execution_count": 36,
     "metadata": {},
     "output_type": "execute_result"
    }
   ],
   "source": [
    "dist2['difference'].mean()"
   ]
  },
  {
   "cell_type": "markdown",
   "id": "32a33b78",
   "metadata": {},
   "source": [
    "#### Distance (RandomForestRegressor)"
   ]
  },
  {
   "cell_type": "code",
   "execution_count": 37,
   "id": "811515a0",
   "metadata": {},
   "outputs": [
    {
     "data": {
      "text/html": [
       "<div>\n",
       "<style scoped>\n",
       "    .dataframe tbody tr th:only-of-type {\n",
       "        vertical-align: middle;\n",
       "    }\n",
       "\n",
       "    .dataframe tbody tr th {\n",
       "        vertical-align: top;\n",
       "    }\n",
       "\n",
       "    .dataframe thead th {\n",
       "        text-align: right;\n",
       "    }\n",
       "</style>\n",
       "<table border=\"1\" class=\"dataframe\">\n",
       "  <thead>\n",
       "    <tr style=\"text-align: right;\">\n",
       "      <th></th>\n",
       "      <th>consume</th>\n",
       "      <th>predicted</th>\n",
       "      <th>difference</th>\n",
       "    </tr>\n",
       "  </thead>\n",
       "  <tbody>\n",
       "    <tr>\n",
       "      <th>271</th>\n",
       "      <td>5.6</td>\n",
       "      <td>4.488563</td>\n",
       "      <td>1.11</td>\n",
       "    </tr>\n",
       "    <tr>\n",
       "      <th>46</th>\n",
       "      <td>5.1</td>\n",
       "      <td>4.932131</td>\n",
       "      <td>0.17</td>\n",
       "    </tr>\n",
       "    <tr>\n",
       "      <th>167</th>\n",
       "      <td>6.1</td>\n",
       "      <td>4.697063</td>\n",
       "      <td>1.40</td>\n",
       "    </tr>\n",
       "    <tr>\n",
       "      <th>42</th>\n",
       "      <td>4.6</td>\n",
       "      <td>4.819850</td>\n",
       "      <td>0.22</td>\n",
       "    </tr>\n",
       "    <tr>\n",
       "      <th>349</th>\n",
       "      <td>4.3</td>\n",
       "      <td>4.225558</td>\n",
       "      <td>0.07</td>\n",
       "    </tr>\n",
       "    <tr>\n",
       "      <th>181</th>\n",
       "      <td>7.1</td>\n",
       "      <td>5.060124</td>\n",
       "      <td>2.04</td>\n",
       "    </tr>\n",
       "    <tr>\n",
       "      <th>153</th>\n",
       "      <td>5.0</td>\n",
       "      <td>5.232919</td>\n",
       "      <td>0.23</td>\n",
       "    </tr>\n",
       "    <tr>\n",
       "      <th>33</th>\n",
       "      <td>4.8</td>\n",
       "      <td>4.536236</td>\n",
       "      <td>0.26</td>\n",
       "    </tr>\n",
       "    <tr>\n",
       "      <th>116</th>\n",
       "      <td>5.1</td>\n",
       "      <td>6.013310</td>\n",
       "      <td>0.91</td>\n",
       "    </tr>\n",
       "    <tr>\n",
       "      <th>148</th>\n",
       "      <td>4.7</td>\n",
       "      <td>4.487674</td>\n",
       "      <td>0.21</td>\n",
       "    </tr>\n",
       "    <tr>\n",
       "      <th>376</th>\n",
       "      <td>4.3</td>\n",
       "      <td>4.141244</td>\n",
       "      <td>0.16</td>\n",
       "    </tr>\n",
       "    <tr>\n",
       "      <th>284</th>\n",
       "      <td>4.4</td>\n",
       "      <td>4.359967</td>\n",
       "      <td>0.04</td>\n",
       "    </tr>\n",
       "    <tr>\n",
       "      <th>104</th>\n",
       "      <td>5.4</td>\n",
       "      <td>6.705239</td>\n",
       "      <td>1.31</td>\n",
       "    </tr>\n",
       "    <tr>\n",
       "      <th>57</th>\n",
       "      <td>6.2</td>\n",
       "      <td>5.096976</td>\n",
       "      <td>1.10</td>\n",
       "    </tr>\n",
       "    <tr>\n",
       "      <th>198</th>\n",
       "      <td>7.4</td>\n",
       "      <td>5.359673</td>\n",
       "      <td>2.04</td>\n",
       "    </tr>\n",
       "    <tr>\n",
       "      <th>114</th>\n",
       "      <td>4.7</td>\n",
       "      <td>4.579250</td>\n",
       "      <td>0.12</td>\n",
       "    </tr>\n",
       "    <tr>\n",
       "      <th>15</th>\n",
       "      <td>5.1</td>\n",
       "      <td>6.202355</td>\n",
       "      <td>1.10</td>\n",
       "    </tr>\n",
       "    <tr>\n",
       "      <th>218</th>\n",
       "      <td>4.6</td>\n",
       "      <td>6.648138</td>\n",
       "      <td>2.05</td>\n",
       "    </tr>\n",
       "    <tr>\n",
       "      <th>84</th>\n",
       "      <td>4.9</td>\n",
       "      <td>5.594602</td>\n",
       "      <td>0.69</td>\n",
       "    </tr>\n",
       "    <tr>\n",
       "      <th>0</th>\n",
       "      <td>5.0</td>\n",
       "      <td>5.495746</td>\n",
       "      <td>0.50</td>\n",
       "    </tr>\n",
       "  </tbody>\n",
       "</table>\n",
       "</div>"
      ],
      "text/plain": [
       "     consume  predicted  difference\n",
       "271      5.6   4.488563        1.11\n",
       "46       5.1   4.932131        0.17\n",
       "167      6.1   4.697063        1.40\n",
       "42       4.6   4.819850        0.22\n",
       "349      4.3   4.225558        0.07\n",
       "181      7.1   5.060124        2.04\n",
       "153      5.0   5.232919        0.23\n",
       "33       4.8   4.536236        0.26\n",
       "116      5.1   6.013310        0.91\n",
       "148      4.7   4.487674        0.21\n",
       "376      4.3   4.141244        0.16\n",
       "284      4.4   4.359967        0.04\n",
       "104      5.4   6.705239        1.31\n",
       "57       6.2   5.096976        1.10\n",
       "198      7.4   5.359673        2.04\n",
       "114      4.7   4.579250        0.12\n",
       "15       5.1   6.202355        1.10\n",
       "218      4.6   6.648138        2.05\n",
       "84       4.9   5.594602        0.69\n",
       "0        5.0   5.495746        0.50"
      ]
     },
     "execution_count": 37,
     "metadata": {},
     "output_type": "execute_result"
    }
   ],
   "source": [
    "dist4=pd.concat([test_Y], axis=1)\n",
    "dist4['predicted'] = y_pred4\n",
    "dist4['difference'] = round(((dist4['consume']-dist4['predicted'])**2)**(1/2),2)\n",
    "dist4.head(20)"
   ]
  },
  {
   "cell_type": "code",
   "execution_count": 38,
   "id": "1a2b4638",
   "metadata": {},
   "outputs": [
    {
     "data": {
      "text/plain": [
       "0.5833333333333334"
      ]
     },
     "execution_count": 38,
     "metadata": {},
     "output_type": "execute_result"
    }
   ],
   "source": [
    "dist4['difference'].mean()"
   ]
  },
  {
   "cell_type": "code",
   "execution_count": null,
   "id": "36d13c54",
   "metadata": {},
   "outputs": [],
   "source": [
    "#RandomForestRegressor does best when predicting the consum based on the selected features."
   ]
  }
 ],
 "metadata": {
  "kernelspec": {
   "display_name": "Python 3 (ipykernel)",
   "language": "python",
   "name": "python3"
  },
  "language_info": {
   "codemirror_mode": {
    "name": "ipython",
    "version": 3
   },
   "file_extension": ".py",
   "mimetype": "text/x-python",
   "name": "python",
   "nbconvert_exporter": "python",
   "pygments_lexer": "ipython3",
   "version": "3.9.12"
  }
 },
 "nbformat": 4,
 "nbformat_minor": 5
}
